{
 "cells": [
  {
   "cell_type": "markdown",
   "id": "tamil-chapel",
   "metadata": {},
   "source": [
    "# 1. Data Preprocessing:\n",
    "*필요 library:\n",
    "    seaborn, tensorflow, pytorch, torchvision, imbalanced-learn\n",
    "    \n",
    "### 1) Getting data"
   ]
  },
  {
   "cell_type": "code",
   "execution_count": null,
   "id": "hundred-button",
   "metadata": {},
   "outputs": [],
   "source": [
    "import pandas as pd\n",
    "import numpy as np\n",
    "from tqdm import tqdm\n",
    "import os, glob"
   ]
  },
  {
   "cell_type": "code",
   "execution_count": null,
   "id": "identical-sample",
   "metadata": {},
   "outputs": [],
   "source": [
    "#파일 경로 가져오기\n",
    "PATH = './train/'\n",
    "\n",
    "image_dirs = os.listdir(PATH)\n",
    "image_paths = dict()\n",
    "for image_dir in tqdm(image_dirs):\n",
    "    try:\n",
    "        files = glob.glob(PATH + image_dir+\"/*.png\") \n",
    "        image_paths[image_dir] = [file for file in files]\n",
    "    except:\n",
    "        FileNotFoundError"
   ]
  },
  {
   "cell_type": "code",
   "execution_count": null,
   "id": "2d12868e",
   "metadata": {},
   "outputs": [],
   "source": [
    "image_paths"
   ]
  },
  {
   "cell_type": "code",
   "execution_count": null,
   "id": "diverse-flood",
   "metadata": {},
   "outputs": [],
   "source": [
    "#이미지 파일 & Label & filename & path 가져오기\n",
    "import PIL\n",
    "from PIL import Image\n",
    "import torch\n",
    "import torchvision\n",
    "from torch.utils.data import  TensorDataset, DataLoader\n",
    "import torchvision.transforms as transforms\n",
    "from keras.preprocessing.image import img_to_array\n",
    "\n",
    "#image transform\n",
    "transform = transforms.Compose([\n",
    "    transforms.Resize([512,512]),\n",
    "    transforms.ToTensor(),\n",
    "    transforms.Normalize(mean=[0.5, 0.5, 0.5], std=[0.5, 0.5, 0.5]),\n",
    "])\n",
    "\n",
    "data = dict()\n",
    "data['label'] = []\n",
    "data['filename'] = []\n",
    "data['image_arr'] = []\n",
    "for label,paths in tqdm(image_paths.items()):\n",
    "    for path in paths:\n",
    "        img = Image.open(path)\n",
    "        img = img.convert('RGB')\n",
    "        data['filename'].append(path)\n",
    "        img_arr = img_to_array(transform(img)) #3,480,480\n",
    "        img_arr = np.transpose(img_arr, (2,1,0)) # 480,480,3\n",
    "        data['image_arr'].append(img_arr)\n",
    "        data['label'].append(label)"
   ]
  },
  {
   "cell_type": "code",
   "execution_count": null,
   "id": "33bc5810",
   "metadata": {},
   "outputs": [],
   "source": [
    "data['filename']"
   ]
  },
  {
   "cell_type": "code",
   "execution_count": null,
   "id": "e236f9c5",
   "metadata": {},
   "outputs": [],
   "source": [
    "data[\"label\"][0]"
   ]
  },
  {
   "cell_type": "code",
   "execution_count": null,
   "id": "scenic-florida",
   "metadata": {},
   "outputs": [],
   "source": [
    "#파일 정보 확인 및 이미지 확인, data imbalance 확인 \n",
    "from collections import Counter\n",
    "import matplotlib.pyplot as plt\n",
    "from keras.preprocessing.image import ImageDataGenerator, array_to_img, img_to_array,load_img\n",
    "print('number of samples: ', len(data['image_arr']))\n",
    "print('dict keys: ', list(data.keys()))\n",
    "print('image shape: ', data['image_arr'][0].shape)\n",
    "count_label = Counter(data['label'])\n",
    "print('Original dataset shape')\n",
    "print(sorted(count_label.items()))\n",
    "\n",
    "#show images\n",
    "fig, axes = plt.subplots(1, len(count_label.items()))\n",
    "fig.set_size_inches(15,4)\n",
    "fig.tight_layout()\n",
    " \n",
    "for ax, label in zip(axes, np.unique(data['label'])):\n",
    "    idx = data['label'].index(label)\n",
    "    ax.imshow(array_to_img(data['image_arr'][idx]))\n",
    "    ax.axis('off')\n",
    "    ax.set_title(label)"
   ]
  },
  {
   "cell_type": "code",
   "execution_count": null,
   "id": "former-beaver",
   "metadata": {},
   "outputs": [],
   "source": [
    "#imbalance 시각화\n",
    "import seaborn as sns\n",
    "\n",
    "plt.figure(figsize=(10,5))\n",
    "sns.countplot(data['label'])\n",
    "plt.show()"
   ]
  },
  {
   "cell_type": "markdown",
   "id": "breathing-ballot",
   "metadata": {},
   "source": [
    "### 2) Data Augmentation\n",
    "* 왜곡된 image를 가장 많은 label 수에 맞추어 (0 SPOT, 1140개) directory에 바로 생성."
   ]
  },
  {
   "cell_type": "code",
   "execution_count": null,
   "id": "f2c3e25a",
   "metadata": {},
   "outputs": [],
   "source": [
    "Counter(data['label'])"
   ]
  },
  {
   "cell_type": "code",
   "execution_count": null,
   "id": "91b2d485",
   "metadata": {},
   "outputs": [],
   "source": [
    "for img,label in zip(data['image_arr'],data['label']):\n",
    "    print(label)\n",
    "    print(\"먼데\")"
   ]
  },
  {
   "cell_type": "code",
   "execution_count": null,
   "id": "260aa674",
   "metadata": {},
   "outputs": [],
   "source": [
    "save_to_dir=f\"{PATH}{label}/\"\n",
    "save_to_dir"
   ]
  },
  {
   "cell_type": "code",
   "execution_count": null,
   "id": "listed-stand",
   "metadata": {},
   "outputs": [],
   "source": [
    "#generator 생성\n",
    "data_gen = ImageDataGenerator(rotation_range=[0, 45], \n",
    "                               width_shift_range= [0, 0.1], \n",
    "                               height_shift_range= [0, 0.1],\n",
    "                               rescale = 1.0/255, #rgb값을 normalize, 학습 효율적\n",
    "                               shear_range=0.1, #distort\n",
    "                               zoom_range = [0, 0.1],\n",
    "                               horizontal_flip = True,\n",
    "                               vertical_flip= True,\n",
    "                               fill_mode='nearest'\n",
    "                              )\n",
    "\n",
    "label_count = Counter(data['label'])\n",
    "label_max = max(label_count.values()) # 220\n",
    "\n",
    "i=0\n",
    "for img,label in zip(data['image_arr'],data['label']):\n",
    "    x = img\n",
    "    x = x.reshape((1,)+x.shape)\n",
    "    img_count = label_count[label] #현재 label을 가진 사진 수\n",
    "    if img_count < label_max:\n",
    "        i = label_max-img_count #해당 label에 대해 추가로 생성해야 하는 사진 수 (가장 많은 label의 사진 수에서 뺀 값)\n",
    "        i = i//img_count #이 사진으로 만들어야 하는 보정 사진 수\n",
    "        for batch in data_gen.flow(x,\n",
    "                                 batch_size=1,\n",
    "                                 save_to_dir=f\"{PATH}{label}/\", #기존 dir에 생성.\n",
    "                                 save_prefix=f'made_'+label[0],\n",
    "                                 save_format='jpg'):\n",
    "            i-=1\n",
    "            if i<0:\n",
    "                break"
   ]
  },
  {
   "cell_type": "code",
   "execution_count": 2,
   "id": "general-redhead",
   "metadata": {},
   "outputs": [
    {
     "ename": "AttributeError",
     "evalue": "'Tensor' object has no attribute 'save'",
     "output_type": "error",
     "traceback": [
      "\u001b[1;31m---------------------------------------------------------------------------\u001b[0m",
      "\u001b[1;31mAttributeError\u001b[0m                            Traceback (most recent call last)",
      "\u001b[1;32m~\\AppData\\Local\\Temp/ipykernel_16940/3523530585.py\u001b[0m in \u001b[0;36m<module>\u001b[1;34m\u001b[0m\n\u001b[0;32m     11\u001b[0m \u001b[0mimage\u001b[0m \u001b[1;33m=\u001b[0m \u001b[0mImage\u001b[0m\u001b[1;33m.\u001b[0m\u001b[0mopen\u001b[0m\u001b[1;33m(\u001b[0m\u001b[1;34m'./train/bottle-broken_large/10204.png'\u001b[0m\u001b[1;33m)\u001b[0m\u001b[1;33m\u001b[0m\u001b[1;33m\u001b[0m\u001b[0m\n\u001b[0;32m     12\u001b[0m \u001b[0mimage\u001b[0m \u001b[1;33m=\u001b[0m \u001b[0mtransform\u001b[0m\u001b[1;33m(\u001b[0m\u001b[0mimage\u001b[0m\u001b[1;33m)\u001b[0m\u001b[1;33m.\u001b[0m\u001b[0munsqueeze\u001b[0m\u001b[1;33m(\u001b[0m\u001b[1;36m0\u001b[0m\u001b[1;33m)\u001b[0m\u001b[1;33m\u001b[0m\u001b[1;33m\u001b[0m\u001b[0m\n\u001b[1;32m---> 13\u001b[1;33m \u001b[0mimage\u001b[0m\u001b[1;33m.\u001b[0m\u001b[0msave\u001b[0m\u001b[1;33m(\u001b[0m\u001b[1;34m\"10204test.jpg\"\u001b[0m\u001b[1;33m)\u001b[0m\u001b[1;33m\u001b[0m\u001b[1;33m\u001b[0m\u001b[0m\n\u001b[0m\u001b[0;32m     14\u001b[0m \u001b[1;33m\u001b[0m\u001b[0m\n",
      "\u001b[1;31mAttributeError\u001b[0m: 'Tensor' object has no attribute 'save'"
     ]
    }
   ],
   "source": [
    "from PIL import Image\n",
    "import torchvision.transforms as transforms\n",
    "\n",
    "\n",
    "transform = transforms.Compose([\n",
    "    transforms.ToTensor(), #이 과정에서 [0, 255]의 범위를 갖는 값들을 [0.0, 1.0]으로 정규화 \n",
    "])\n",
    "\n",
    "\n",
    "# image = Image.open('1차 용접부 데이터(추가데이터)_최종/test/1/7.jpg').convert('RGB')\n",
    "image = Image.open('./train/bottle-broken_large/10204.png')\n",
    "image = transform(image).unsqueeze(0)\n",
    "image = image.numpy()\n",
    "image.save(\"10204test.jpg\")\n",
    "\n"
   ]
  },
  {
   "cell_type": "code",
   "execution_count": null,
   "id": "mature-enzyme",
   "metadata": {},
   "outputs": [],
   "source": []
  }
 ],
 "metadata": {
  "kernelspec": {
   "display_name": "Python 3 (ipykernel)",
   "language": "python",
   "name": "python3"
  },
  "language_info": {
   "codemirror_mode": {
    "name": "ipython",
    "version": 3
   },
   "file_extension": ".py",
   "mimetype": "text/x-python",
   "name": "python",
   "nbconvert_exporter": "python",
   "pygments_lexer": "ipython3",
   "version": "3.7.11"
  }
 },
 "nbformat": 4,
 "nbformat_minor": 5
}
