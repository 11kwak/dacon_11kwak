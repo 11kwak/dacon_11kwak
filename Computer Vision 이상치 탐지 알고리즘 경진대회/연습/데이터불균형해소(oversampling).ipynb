{
 "cells": [
  {
   "cell_type": "markdown",
   "metadata": {},
   "source": [
    "# 0. import"
   ]
  },
  {
   "cell_type": "code",
   "execution_count": 1,
   "metadata": {},
   "outputs": [],
   "source": [
    "import numpy as np\n",
    "import pandas as pd\n",
    "import matplotlib.pyplot as plt\n",
    "%matplotlib inline\n",
    "import cv2\n",
    "import os, glob\n",
    "import random\n",
    "from tqdm import tqdm\n",
    "from time import time\n",
    "\n",
    "\n"
   ]
  },
  {
   "cell_type": "markdown",
   "metadata": {},
   "source": [
    "# 1. open cv 함수 사용\n",
    "- test 이미지들이 open cv 의 data argumentation 사용한 것 같아 opencv를 이용"
   ]
  },
  {
   "cell_type": "code",
   "execution_count": 2,
   "metadata": {},
   "outputs": [],
   "source": [
    "def brightness(gray, val):\n",
    "    #gray = cv2.cvtColor(img, cv2.COLOR_BGR2GRAY)\n",
    "    brightness = int(random.uniform(-val, val))\n",
    "    if brightness > 0:\n",
    "        gray = gray + brightness\n",
    "    else:\n",
    "        gray = gray - brightness\n",
    "    gray = np.clip(gray, 10, 255)\n",
    "    return gray\n",
    "\n",
    "def contrast(gray, min_val, max_val):\n",
    "    #gray = cv2.cvtColor(img, cv2.COLOR_GRAY2RGB)\n",
    "    alpha = int(random.uniform(min_val, max_val)) # Contrast control\n",
    "    adjusted = cv2.convertScaleAbs(gray, alpha=alpha)\n",
    "    return adjusted\n",
    "\n",
    "def fill(img, h, w):\n",
    "    img = cv2.resize(img, (h, w), cv2.INTER_CUBIC)\n",
    "    return img\n",
    "\n",
    "def rotation(img, angle):\n",
    "    # angle = int(random.uniform(-angle, angle))\n",
    "    angle_list = [int(angle), 15, 25, 90, 45,90,180, 180] #조절\n",
    "    angle = random.choice(angle_list)\n",
    "    h, w = img.shape[:2]\n",
    "    M = cv2.getRotationMatrix2D((int(w/2), int(h/2)), angle, 1)\n",
    "    img = cv2.warpAffine(img, M, (w, h))\n",
    "    return img\n",
    "\n",
    "\n",
    "def vertical_shift_down(img, ratio=0.0):\n",
    "    if ratio > 1 or ratio < 0:\n",
    "        print('Value should be less than 1 and greater than 0')\n",
    "        return img\n",
    "    ratio = random.uniform(-ratio, ratio)\n",
    "    h, w = img.shape[:2]\n",
    "    to_shift = h*ratio\n",
    "    if ratio > 0:\n",
    "        img = img[:int(h-to_shift), :, :]\n",
    "    img = fill(img, h, w)\n",
    "    return img\n",
    "\n",
    "\n",
    "def vertical_shift_up(img, ratio=0.0):\n",
    "    if ratio > 1 or ratio < 0:\n",
    "        print('Value should be less than 1 and greater than 0')\n",
    "        return img\n",
    "    ratio = random.uniform(0.0, ratio)\n",
    "    h, w = img.shape[:2]\n",
    "    to_shift = h*ratio\n",
    "    if ratio > 0:\n",
    "        img = img[:int(h-to_shift), :, :]\n",
    "    img = fill(img, h, w)\n",
    "    return img\n",
    "\n",
    "def horizontal_shift(img, ratio=0.0):\n",
    "    if ratio > 1 or ratio < 0:\n",
    "        print('Value should be less than 1 and greater than 0')\n",
    "        return img\n",
    "    ratio = random.uniform(-ratio, ratio)\n",
    "    h, w = img.shape[:2]\n",
    "    to_shift = w*ratio\n",
    "    if ratio > 0:\n",
    "        img = img[:, :int(w-to_shift), :]\n",
    "    if ratio < 0:\n",
    "        img = img[:, int(-1*to_shift):, :]\n",
    "    img = fill(img, h, w)\n",
    "    return img\n",
    "\n",
    "\n",
    "def vertical_flip(img, flag):\n",
    "    if flag:\n",
    "        return cv2.flip(img, 0)\n",
    "    else:\n",
    "        return img\n",
    "\n",
    "def horizontal_flip(img, flag):\n",
    "    if flag:\n",
    "        return cv2.flip(img, 1)\n",
    "    else:\n",
    "        return img\n"
   ]
  },
  {
   "cell_type": "markdown",
   "metadata": {},
   "source": [
    "# 2. 데이터 불균형 확인"
   ]
  },
  {
   "cell_type": "code",
   "execution_count": 3,
   "metadata": {},
   "outputs": [
    {
     "name": "stderr",
     "output_type": "stream",
     "text": [
      "100%|██████████| 7/7 [00:00<00:00, 3494.42it/s]\n"
     ]
    }
   ],
   "source": [
    "#파일 경로 가져오기\n",
    "PATH = './train/'\n",
    "\n",
    "image_dirs = os.listdir(PATH)\n",
    "image_paths = dict()\n",
    "for image_dir in tqdm(image_dirs):\n",
    "    try:\n",
    "        files = glob.glob(PATH + image_dir+\"/*.png\") \n",
    "        image_paths[image_dir] = [file for file in files]\n",
    "    except:\n",
    "        FileNotFoundError"
   ]
  },
  {
   "cell_type": "code",
   "execution_count": 4,
   "metadata": {},
   "outputs": [
    {
     "name": "stderr",
     "output_type": "stream",
     "text": [
      "100%|██████████| 7/7 [00:00<00:00, 259.08it/s]\n"
     ]
    }
   ],
   "source": [
    "#이미지 파일 & Label & filename & path 가져오기\n",
    "import PIL\n",
    "from PIL import Image\n",
    "import torch\n",
    "import torchvision\n",
    "from torch.utils.data import  TensorDataset, DataLoader\n",
    "from keras.preprocessing.image import img_to_array\n",
    "\n",
    "\n",
    "data = dict()\n",
    "data['label'] = []\n",
    "data['filename'] = []\n",
    "# data['image_arr'] = []\n",
    "for label,paths in tqdm(image_paths.items()):\n",
    "    for path in paths:\n",
    "        img = Image.open(path)\n",
    "        data['filename'].append(path)\n",
    "        # data['image_arr'].append(img_arr)\n",
    "        data['label'].append(label)"
   ]
  },
  {
   "cell_type": "code",
   "execution_count": 5,
   "metadata": {},
   "outputs": [
    {
     "name": "stdout",
     "output_type": "stream",
     "text": [
      "dict keys:  ['label', 'filename']\n",
      "Original dataset shape\n",
      "[('bottle-broken_large', 8), ('bottle-broken_small', 5), ('bottle-contamination', 7), ('cable-bent_wire', 7), ('cable-cable_swap', 6), ('cable-combined', 6), ('cable-cut_inner_insulation', 7)]\n"
     ]
    }
   ],
   "source": [
    "#파일 정보 확인 및 이미지 확인, data imbalance 확인 \n",
    "from collections import Counter\n",
    "import matplotlib.pyplot as plt\n",
    "from keras.preprocessing.image import ImageDataGenerator, array_to_img, img_to_array,load_img\n",
    "# print('number of samples: ', len(data['image_arr']))\n",
    "print('dict keys: ', list(data.keys()))\n",
    "# print('image shape: ', data['image_arr'][0].shape)\n",
    "count_label = Counter(data['label'])\n",
    "print('Original dataset shape')\n",
    "print(sorted(count_label.items()))\n",
    "\n",
    "# #show images\n",
    "# fig, axes = plt.subplots(1, len(count_label.items()))\n",
    "# fig.set_size_inches(15,4)\n",
    "# fig.tight_layout()\n",
    " \n",
    "# for ax, label in zip(axes, np.unique(data['label'])):\n",
    "#     idx = data['label'].index(label)\n",
    "#     # ax.imshow(array_to_img(data['image_arr'][idx]))\n",
    "#     ax.axis('off')\n",
    "#     ax.set_title(label)"
   ]
  },
  {
   "cell_type": "code",
   "execution_count": 6,
   "metadata": {},
   "outputs": [
    {
     "name": "stderr",
     "output_type": "stream",
     "text": [
      "C:\\Users\\82109\\anaconda3\\envs\\data\\lib\\site-packages\\seaborn\\_decorators.py:43: FutureWarning: Pass the following variable as a keyword arg: x. From version 0.12, the only valid positional argument will be `data`, and passing other arguments without an explicit keyword will result in an error or misinterpretation.\n",
      "  FutureWarning\n"
     ]
    },
    {
     "data": {
      "image/png": "[encoded data removed]",
      "text/plain": [
       "<Figure size 720x360 with 1 Axes>"
      ]
     },
     "metadata": {
      "needs_background": "light"
     },
     "output_type": "display_data"
    }
   ],
   "source": [
    "#imbalance 시각화\n",
    "import seaborn as sns\n",
    "\n",
    "plt.figure(figsize=(10,5))\n",
    "sns.countplot(data['label'])\n",
    "plt.show()"
   ]
  },
  {
   "cell_type": "markdown",
   "metadata": {},
   "source": [
    "# 3. Data Argumentation 실행"
   ]
  },
  {
   "cell_type": "code",
   "execution_count": 7,
   "metadata": {},
   "outputs": [
    {
     "name": "stderr",
     "output_type": "stream",
     "text": [
      "100%|██████████| 7/7 [00:00<00:00,  9.75it/s]\n"
     ]
    }
   ],
   "source": [
    "PATH = './train/'\n",
    "image_dirs = os.listdir(PATH)\n",
    "len_image_list = 0\n",
    "\n",
    "label_count = Counter(data['label'])\n",
    "label_max = max(label_count.values())\n",
    "\n",
    "\n",
    "for image_dir in tqdm(image_dirs):\n",
    "    image_list = os.listdir(PATH+image_dir+\"/\")\n",
    "    len_image_list = len(image_list)\n",
    "\n",
    "    while(len_image_list<label_max):   # 폴더에 생성할 갯수 설정\n",
    "        \n",
    "        for image in image_list:\n",
    "            img = cv2.imread(PATH+image_dir+\"/\"+image)\n",
    "            img = contrast(img, 1, 1.5)\n",
    "            img = horizontal_flip(img, 1)\n",
    "            img = rotation(img, 45)\n",
    "            img = horizontal_shift(img, 0.1)\n",
    "            img = vertical_shift_up(img, 0.1)\n",
    "            img = vertical_shift_down(img, 0.1)\n",
    "\n",
    "            file_name = PATH+image_dir+\"/arumentation_\"+str(time())+ '.png'\n",
    "            cv2.imwrite(file_name, img)\n",
    "            len_image_list += 1\n",
    "            if len_image_list >= label_max:\n",
    "                break;\n",
    "\n",
    "    len_image_list = 0\n",
    "\n",
    "            \n",
    "\n",
    "        \n",
    "            \n",
    "          \n",
    "\n"
   ]
  }
 ],
 "metadata": {
  "interpreter": {
   "hash": "d60e79b47118bf8d053c30920be263c6b6ca65e525ada8cdf877117bfde307c2"
  },
  "kernelspec": {
   "display_name": "Python 3.7.11 ('data')",
   "language": "python",
   "name": "python3"
  },
  "language_info": {
   "codemirror_mode": {
    "name": "ipython",
    "version": 3
   },
   "file_extension": ".py",
   "mimetype": "text/x-python",
   "name": "python",
   "nbconvert_exporter": "python",
   "pygments_lexer": "ipython3",
   "version": "3.7.11"
  },
  "orig_nbformat": 4
 },
 "nbformat": 4,
 "nbformat_minor": 2
}
