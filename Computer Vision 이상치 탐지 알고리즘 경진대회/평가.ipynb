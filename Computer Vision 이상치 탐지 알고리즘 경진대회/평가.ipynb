{
 "cells": [
  {
   "cell_type": "code",
   "execution_count": 1,
   "metadata": {},
   "outputs": [],
   "source": [
    "# -*- coding: utf-8 -*-\n",
    "# 공통 라이브러리 \n",
    "import os\n",
    "import time\n",
    "\n",
    "# 토치 라이브러리 \n",
    "import torch\n",
    "import torchvision\n",
    "import torch.nn as nn\n",
    "from torch.utils.data import Dataset, DataLoader\n",
    "\n",
    "# 그 외 필요한 머신러닝, 데이터 분석 라이브러리\n",
    "import numpy as np\n",
    "import pandas as pd\n",
    "from torchvision import datasets, models\n",
    "import torchvision.transforms as transforms\n",
    "from torch.utils.data.sampler import SubsetRandomSampler\n",
    "from tqdm import tqdm\n",
    "from PIL import Image\n",
    "%matplotlib inline\n",
    "import matplotlib as mpl\n",
    "import matplotlib.pyplot as plt\n",
    "import matplotlib.font_manager as fm\n",
    "# 유니코드 깨짐현상 해결\n",
    "mpl.rcParams['axes.unicode_minus'] = False\n",
    "# 나눔고딕 폰트 적용 - 폰트 없을 시 https://dsstudy.tistory.com/15 참고하여 설치 , 윈도우 or 맥일 경우 운영체제에 맞게 폰트 설정\n",
    "plt.rcParams[\"font.family\"] = 'NanumGothic'\n",
    "\n",
    "\n"
   ]
  },
  {
   "cell_type": "code",
   "execution_count": 2,
   "metadata": {},
   "outputs": [],
   "source": [
    "data_dir = \"./data(oversampling)\"\n",
    "\n",
    "def create_datasets(batch_size):\n",
    "    \n",
    "    train_transform = transforms.Compose([\n",
    "    transforms.RandomHorizontalFlip(),  # 좌우반전 \n",
    "    transforms.RandomVerticalFlip(),  # 상하반전 \n",
    "    transforms.Resize((512, 512)),  # 알맞게 변경하세요 \n",
    "    transforms.ToTensor(),  # 이 과정에서 [0, 255]의 범위를 갖는 값들을 [0.0, 1.0]으로 정규화, torch.FloatTensor로 변환\n",
    "    transforms.Normalize([0.41272497,0.38753614,0.37988776], [0.19911055,0.19538455, 0.18590365])  #  정규화(normalization)\n",
    "])\n",
    "\n",
    "\n",
    "    # choose the training and test datasets\n",
    "    train_data = datasets.ImageFolder(os.path.join(data_dir, 'train'), train_transform)\n",
    "\n",
    "\n",
    "\n",
    "    # trainning set 중 validation 데이터로 사용할 비율\n",
    "    valid_size = 0.3\n",
    "\n",
    "    # validation으로 사용할 trainning indices를 얻는다.\n",
    "    num_train = len(train_data)\n",
    "    indices = list(range(num_train))\n",
    "    np.random.shuffle(indices)\n",
    "    split = int(np.floor(valid_size * num_train))\n",
    "    train_idx, valid_idx = indices[split:], indices[:split]\n",
    "\n",
    "    # trainning, validation batch를 얻기 위한 sampler정의\n",
    "    train_sampler = SubsetRandomSampler(train_idx)\n",
    "    valid_sampler = SubsetRandomSampler(valid_idx)\n",
    "\n",
    "    # load training data in batches\n",
    "    train_loader = torch.utils.data.DataLoader(train_data,\n",
    "                                               batch_size=batch_size,\n",
    "                                               sampler=train_sampler,\n",
    "                                               num_workers=4)\n",
    "\n",
    "    # load validation data in batches\n",
    "    valid_loader = torch.utils.data.DataLoader(train_data,\n",
    "                                               batch_size=batch_size,\n",
    "                                               sampler=valid_sampler,\n",
    "                                               num_workers=4)\n",
    "    \n",
    "\n",
    "    return train_data, train_loader, valid_loader\n"
   ]
  },
  {
   "cell_type": "code",
   "execution_count": 3,
   "metadata": {},
   "outputs": [],
   "source": [
    "train_data, train_loader, valid_loader = create_datasets(batch_size=32)"
   ]
  },
  {
   "cell_type": "code",
   "execution_count": 4,
   "metadata": {},
   "outputs": [],
   "source": [
    "class_names = train_data.classes"
   ]
  },
  {
   "cell_type": "code",
   "execution_count": 5,
   "metadata": {},
   "outputs": [],
   "source": [
    "device ='cpu'\n",
    "\n",
    "model = models.resnet34(pretrained=True)\n",
    "num_features = model.fc.in_features\n",
    "model.fc = nn.Linear(num_features, 88)\n",
    "\n",
    "\n",
    "model = model.to(device)\n"
   ]
  },
  {
   "cell_type": "code",
   "execution_count": 6,
   "metadata": {},
   "outputs": [
    {
     "data": {
      "text/plain": [
       "<All keys matched successfully>"
      ]
     },
     "execution_count": 6,
     "metadata": {},
     "output_type": "execute_result"
    }
   ],
   "source": [
    "\n",
    "batch_size = 32\n",
    "model.load_state_dict(torch.load('vl0.09_7_3.pt', map_location='cpu'))"
   ]
  },
  {
   "cell_type": "code",
   "execution_count": 8,
   "metadata": {},
   "outputs": [],
   "source": [
    "\n",
    "data_dir = \"./rawdata/\"\n",
    "\n",
    "import pandas as pd\n",
    "\n",
    "df_submmit = pd.read_csv(\"sample_submission.csv\", encoding=\"cp949\")\n",
    "df_test = pd.read_csv(\"test_df.csv\", encoding=\"cp949\")\n",
    "\n",
    "transform = transforms.Compose([\n",
    "    transforms.Resize((512, 512)),  # 알맞게 변경하세요 \n",
    "    transforms.ToTensor(),  # 이 과정에서 [0, 255]의 범위를 갖는 값들을 [0.0, 1.0]으로 정규화, torch.FloatTensor로 변환\n",
    "    transforms.Normalize([0.41272497,0.38753614,0.37988776], [0.19911055,0.19538455, 0.18590365])  #  정규화(normalization)\n",
    "])\n",
    "\n",
    "# image = Image.open('1차 용접부 데이터(추가데이터)_최종/test/1/7.jpg').convert('RGB')\n",
    "test = os.listdir('./rawdata/test/')\n",
    "\n",
    "for i in range(len(test)):\n",
    "    \n",
    "    image = Image.open(f'./rawdata/test/{test[i]}').convert('RGB')\n",
    "    image = transform(image).unsqueeze(0).to(device)\n",
    "\n",
    "    with torch.no_grad():\n",
    "        outputs = model(image)\n",
    "        _, preds = torch.max(outputs, 1)\n",
    "        index = df_test[df_test[\"file_name\"] ==test[i]][\"index\"].item()\n",
    "        df_submmit.replace({\"index\":index},class_names[preds],inplace=True)\n",
    "\n",
    "        \n",
    "\n",
    "df_submmit.to_csv(\"./cnn_submission.csv\")"
   ]
  },
  {
   "cell_type": "code",
   "execution_count": 9,
   "metadata": {},
   "outputs": [],
   "source": [
    "# 이미지명을 라벨로 하는거\n",
    "class MyDataset(Dataset):\n",
    "    def __init__(self, image_paths, transform=None):\n",
    "        self.image_paths = image_paths\n",
    "        self.transform = transform\n",
    "        \n",
    "    def get_class_label(self, image_name):\n",
    "        # your method here\n",
    "        y = ...\n",
    "        return y\n",
    "        \n",
    "    def __getitem__(self, index):\n",
    "        image_path = self.image_paths[index]\n",
    "        x = Image.open(image_path)\n",
    "        y = self.get_class_label(image_path.split('/')[-1])\n",
    "        if self.transform is not None:\n",
    "            x = self.transform(x)\n",
    "        return x, y\n",
    "    \n",
    "    def __len__(self):\n",
    "        return len(self.image_paths)"
   ]
  },
  {
   "cell_type": "code",
   "execution_count": 11,
   "metadata": {},
   "outputs": [],
   "source": [
    "data_dir = \"./rawdata\"\n",
    "\n",
    "def create_datasets(batch_size):\n",
    "    \n",
    "    train_transform = transforms.Compose([\n",
    "    transforms.Resize((512, 512)),  # 알맞게 변경하세요 \n",
    "    transforms.ToTensor(),  # 이 과정에서 [0, 255]의 범위를 갖는 값들을 [0.0, 1.0]으로 정규화, torch.FloatTensor로 변환\n",
    "    transforms.Normalize([0.41272497,0.38753614,0.37988776], [0.19911055,0.19538455, 0.18590365])  #  정규화(normalization)\n",
    "])\n",
    "\n",
    "    # choose the training and test datasets\n",
    "    test_data = MyDataset(os.path.join(data_dir, 'test'), train_transform)\n",
    "\n",
    "    test_loader = torch.utils.data.DataLoader(test_data,                                    \n",
    "                                               num_workers=4)\n",
    "\n",
    "    return test_data, test_loader\n",
    "    "
   ]
  },
  {
   "cell_type": "code",
   "execution_count": null,
   "metadata": {},
   "outputs": [],
   "source": []
  }
 ],
 "metadata": {
  "interpreter": {
   "hash": "d60e79b47118bf8d053c30920be263c6b6ca65e525ada8cdf877117bfde307c2"
  },
  "kernelspec": {
   "display_name": "Python 3.7.11 ('data')",
   "language": "python",
   "name": "python3"
  },
  "language_info": {
   "codemirror_mode": {
    "name": "ipython",
    "version": 3
   },
   "file_extension": ".py",
   "mimetype": "text/x-python",
   "name": "python",
   "nbconvert_exporter": "python",
   "pygments_lexer": "ipython3",
   "version": "3.7.11"
  },
  "orig_nbformat": 4
 },
 "nbformat": 4,
 "nbformat_minor": 2
}
