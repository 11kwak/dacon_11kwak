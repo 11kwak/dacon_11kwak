{
 "cells": [
  {
   "cell_type": "markdown",
   "metadata": {},
   "source": [
    "# 0. import"
   ]
  },
  {
   "cell_type": "code",
   "execution_count": 7,
   "metadata": {},
   "outputs": [],
   "source": [
    "import numpy as np\n",
    "import pandas as pd\n",
    "import matplotlib.pyplot as plt\n",
    "%matplotlib inline\n",
    "import cv2\n",
    "import os, glob\n",
    "import random\n",
    "from tqdm import tqdm\n",
    "from time import time\n",
    "\n",
    "\n"
   ]
  },
  {
   "cell_type": "markdown",
   "metadata": {},
   "source": [
    "# 1. open cv 함수 사용\n",
    "- test 이미지들이 open cv 의 data argumentation 사용한 것 같아 opencv를 이용"
   ]
  },
  {
   "cell_type": "code",
   "execution_count": 8,
   "metadata": {},
   "outputs": [],
   "source": [
    "def brightness(gray, val):\n",
    "    #gray = cv2.cvtColor(img, cv2.COLOR_BGR2GRAY)\n",
    "    brightness = int(random.uniform(-val, val))\n",
    "    if brightness > 0:\n",
    "        gray = gray + brightness\n",
    "    else:\n",
    "        gray = gray - brightness\n",
    "    gray = np.clip(gray, 10, 255)\n",
    "    return gray\n",
    "\n",
    "def contrast(gray, min_val, max_val):\n",
    "    #gray = cv2.cvtColor(img, cv2.COLOR_GRAY2RGB)\n",
    "    alpha = int(random.uniform(min_val, max_val)) # Contrast control\n",
    "    adjusted = cv2.convertScaleAbs(gray, alpha=alpha)\n",
    "    return adjusted\n",
    "\n",
    "def fill(img, h, w):\n",
    "    img = cv2.resize(img, (h, w), cv2.INTER_CUBIC)\n",
    "    return img\n",
    "\n",
    "def rotation(img, angle):\n",
    "    # angle = int(random.uniform(-angle, angle))\n",
    "    angle_list = [int(angle), 15, 25, 90, 45,90,180, 180] #조절\n",
    "    angle = random.choice(angle_list)\n",
    "    h, w = img.shape[:2]\n",
    "    M = cv2.getRotationMatrix2D((int(w/2), int(h/2)), angle, 1)\n",
    "    img = cv2.warpAffine(img, M, (w, h))\n",
    "    return img\n",
    "\n",
    "\n",
    "def vertical_shift_down(img, ratio=0.0):\n",
    "    if ratio > 1 or ratio < 0:\n",
    "        print('Value should be less than 1 and greater than 0')\n",
    "        return img\n",
    "    ratio = random.uniform(-ratio, ratio)\n",
    "    h, w = img.shape[:2]\n",
    "    to_shift = h*ratio\n",
    "    if ratio > 0:\n",
    "        img = img[:int(h-to_shift), :, :]\n",
    "    img = fill(img, h, w)\n",
    "    return img\n",
    "\n",
    "\n",
    "def vertical_shift_up(img, ratio=0.0):\n",
    "    if ratio > 1 or ratio < 0:\n",
    "        print('Value should be less than 1 and greater than 0')\n",
    "        return img\n",
    "    ratio = random.uniform(0.0, ratio)\n",
    "    h, w = img.shape[:2]\n",
    "    to_shift = h*ratio\n",
    "    if ratio > 0:\n",
    "        img = img[:int(h-to_shift), :, :]\n",
    "    img = fill(img, h, w)\n",
    "    return img\n",
    "\n",
    "def horizontal_shift(img, ratio=0.0):\n",
    "    if ratio > 1 or ratio < 0:\n",
    "        print('Value should be less than 1 and greater than 0')\n",
    "        return img\n",
    "    ratio = random.uniform(-ratio, ratio)\n",
    "    h, w = img.shape[:2]\n",
    "    to_shift = w*ratio\n",
    "    if ratio > 0:\n",
    "        img = img[:, :int(w-to_shift), :]\n",
    "    if ratio < 0:\n",
    "        img = img[:, int(-1*to_shift):, :]\n",
    "    img = fill(img, h, w)\n",
    "    return img\n",
    "\n",
    "\n",
    "def vertical_flip(img, flag):\n",
    "    if flag:\n",
    "        return cv2.flip(img, 0)\n",
    "    else:\n",
    "        return img\n",
    "\n",
    "def horizontal_flip(img, flag):\n",
    "    if flag:\n",
    "        return cv2.flip(img, 1)\n",
    "    else:\n",
    "        return img\n"
   ]
  },
  {
   "cell_type": "markdown",
   "metadata": {},
   "source": [
    "# 2. 데이터 불균형 확인"
   ]
  },
  {
   "cell_type": "code",
   "execution_count": 9,
   "metadata": {},
   "outputs": [
    {
     "name": "stderr",
     "output_type": "stream",
     "text": [
      "100%|██████████| 88/88 [00:00<00:00, 7596.66it/s]\n"
     ]
    }
   ],
   "source": [
    "#파일 경로 가져오기\n",
    "PATH = './data/oversampling_15_to_100/train/'\n",
    "\n",
    "image_dirs = os.listdir(PATH)\n",
    "image_paths = dict()\n",
    "for image_dir in tqdm(image_dirs):\n",
    "    try:\n",
    "        files = glob.glob(PATH + image_dir+\"/*.png\") \n",
    "        image_paths[image_dir] = [file for file in files]\n",
    "    except:\n",
    "        FileNotFoundError"
   ]
  },
  {
   "cell_type": "code",
   "execution_count": 10,
   "metadata": {},
   "outputs": [
    {
     "name": "stderr",
     "output_type": "stream",
     "text": [
      "100%|██████████| 88/88 [00:00<00:00, 221.08it/s]\n"
     ]
    }
   ],
   "source": [
    "#이미지 파일 & Label & filename & path 가져오기\n",
    "import PIL\n",
    "from PIL import Image\n",
    "import torch\n",
    "import torchvision\n",
    "from torch.utils.data import  TensorDataset, DataLoader\n",
    "from keras.preprocessing.image import img_to_array\n",
    "\n",
    "\n",
    "data = dict()\n",
    "data['label'] = []\n",
    "data['filename'] = []\n",
    "# data['image_arr'] = []\n",
    "for label,paths in tqdm(image_paths.items()):\n",
    "    for path in paths:\n",
    "        img = Image.open(path)\n",
    "        data['filename'].append(path)\n",
    "        # data['image_arr'].append(img_arr)\n",
    "        data['label'].append(label)"
   ]
  },
  {
   "cell_type": "code",
   "execution_count": 11,
   "metadata": {},
   "outputs": [
    {
     "name": "stdout",
     "output_type": "stream",
     "text": [
      "dict keys:  ['label', 'filename']\n",
      "Original dataset shape\n",
      "[('bottle-broken_large', 10), ('bottle-broken_small', 11), ('bottle-contamination', 11), ('bottle-good', 15), ('cable-bent_wire', 7), ('cable-cable_swap', 6), ('cable-combined', 6), ('cable-cut_inner_insulation', 7), ('cable-cut_outer_insulation', 5), ('cable-good', 15), ('cable-missing_cable', 6), ('cable-missing_wire', 5), ('cable-poke_insulation', 5), ('capsule-crack', 12), ('capsule-faulty_imprint', 11), ('capsule-good', 15), ('capsule-poke', 11), ('capsule-scratch', 12), ('capsule-squeeze', 10), ('carpet-color', 10), ('carpet-cut', 9), ('carpet-good', 15), ('carpet-hole', 9), ('carpet-metal_contamination', 9), ('carpet-thread', 10), ('grid-bent', 6), ('grid-broken', 6), ('grid-glue', 6), ('grid-good', 15), ('grid-metal_contamination', 6), ('grid-thread', 6), ('hazelnut-crack', 9), ('hazelnut-cut', 9), ('hazelnut-good', 15), ('hazelnut-hole', 9), ('hazelnut-print', 9), ('leather-color', 10), ('leather-cut', 10), ('leather-fold', 9), ('leather-glue', 10), ('leather-good', 15), ('leather-poke', 9), ('metal_nut-bent', 13), ('metal_nut-color', 11), ('metal_nut-flip', 12), ('metal_nut-good', 15), ('metal_nut-scratch', 12), ('pill-color', 13), ('pill-combined', 9), ('pill-contamination', 11), ('pill-crack', 13), ('pill-faulty_imprint', 10), ('pill-good', 15), ('pill-pill_type', 5), ('pill-scratch', 12), ('screw-good', 15), ('screw-manipulated_front', 12), ('screw-scratch_head', 12), ('screw-scratch_neck', 13), ('screw-thread_side', 12), ('screw-thread_top', 12), ('tile-crack', 9), ('tile-glue_strip', 9), ('tile-good', 15), ('tile-gray_stroke', 8), ('tile-oil', 9), ('tile-rough', 8), ('toothbrush-defective', 15), ('toothbrush-good', 15), ('transistor-bent_lead', 5), ('transistor-cut_lead', 5), ('transistor-damaged_case', 5), ('transistor-good', 15), ('transistor-misplaced', 5), ('wood-color', 4), ('wood-combined', 6), ('wood-good', 15), ('wood-hole', 5), ('wood-liquid', 5), ('wood-scratch', 11), ('zipper-broken_teeth', 10), ('zipper-combined', 8), ('zipper-fabric_border', 9), ('zipper-fabric_interior', 8), ('zipper-good', 15), ('zipper-rough', 9), ('zipper-split_teeth', 9), ('zipper-squeezed_teeth', 8)]\n"
     ]
    }
   ],
   "source": [
    "#파일 정보 확인 및 이미지 확인, data imbalance 확인 \n",
    "from collections import Counter\n",
    "import matplotlib.pyplot as plt\n",
    "from keras.preprocessing.image import ImageDataGenerator, array_to_img, img_to_array,load_img\n",
    "# print('number of samples: ', len(data['image_arr']))\n",
    "print('dict keys: ', list(data.keys()))\n",
    "# print('image shape: ', data['image_arr'][0].shape)\n",
    "count_label = Counter(data['label'])\n",
    "print('Original dataset shape')\n",
    "print(sorted(count_label.items()))\n",
    "\n",
    "# #show images\n",
    "# fig, axes = plt.subplots(1, len(count_label.items()))\n",
    "# fig.set_size_inches(15,4)\n",
    "# fig.tight_layout()\n",
    " \n",
    "# for ax, label in zip(axes, np.unique(data['label'])):\n",
    "#     idx = data['label'].index(label)\n",
    "#     # ax.imshow(array_to_img(data['image_arr'][idx]))\n",
    "#     ax.axis('off')\n",
    "#     ax.set_title(label)"
   ]
  },
  {
   "cell_type": "code",
   "execution_count": 12,
   "metadata": {},
   "outputs": [
    {
     "name": "stderr",
     "output_type": "stream",
     "text": [
      "C:\\Users\\82109\\anaconda3\\envs\\data\\lib\\site-packages\\seaborn\\_decorators.py:43: FutureWarning: Pass the following variable as a keyword arg: x. From version 0.12, the only valid positional argument will be `data`, and passing other arguments without an explicit keyword will result in an error or misinterpretation.\n",
      "  FutureWarning\n"
     ]
    },
    {
     "data": {
      "image/png": "[encoded data removed]",
      "text/plain": [
       "<Figure size 720x360 with 1 Axes>"
      ]
     },
     "metadata": {
      "needs_background": "light"
     },
     "output_type": "display_data"
    }
   ],
   "source": [
    "#imbalance 시각화\n",
    "import seaborn as sns\n",
    "\n",
    "plt.figure(figsize=(10,5))\n",
    "sns.countplot(data['label'])\n",
    "plt.show()"
   ]
  },
  {
   "cell_type": "markdown",
   "metadata": {},
   "source": [
    "# 3. Data Argumentation 실행"
   ]
  },
  {
   "cell_type": "code",
   "execution_count": 13,
   "metadata": {},
   "outputs": [
    {
     "name": "stderr",
     "output_type": "stream",
     "text": [
      "100%|██████████| 88/88 [18:02<00:00, 12.30s/it]\n"
     ]
    }
   ],
   "source": [
    "#파일 경로 가져오기\n",
    "PATH = './data/oversampling_15_to_100/train/'\n",
    "image_dirs = os.listdir(PATH)\n",
    "len_image_list = 0\n",
    "\n",
    "label_count = Counter(data['label'])\n",
    "label_max = max(label_count.values())\n",
    "\n",
    "\n",
    "for image_dir in tqdm(image_dirs):\n",
    "    image_list = os.listdir(PATH+image_dir+\"/\")\n",
    "    len_image_list = len(image_list)\n",
    "\n",
    "    while(len_image_list<100):   # 폴더에 생성할 갯수 설정, label_max로 하고 싶으면 100대신 label_max\n",
    "        \n",
    "        for image in image_list:\n",
    "            img = cv2.imread(PATH+image_dir+\"/\"+image)\n",
    "            img = contrast(img, 1, 1.5)\n",
    "            img = horizontal_flip(img, 1)\n",
    "            img = rotation(img, 45)\n",
    "            img = horizontal_shift(img, 0.1)\n",
    "            img = vertical_shift_up(img, 0.1)\n",
    "            img = vertical_shift_down(img, 0.1)\n",
    "\n",
    "            file_name = PATH+image_dir+\"/arumentation_\"+str(time())+ '.png'\n",
    "            cv2.imwrite(file_name, img)\n",
    "            len_image_list += 1\n",
    "            if len_image_list >= 100 : #label_max\n",
    "                break;\n",
    "\n",
    "    len_image_list = 0\n",
    "\n",
    "            \n",
    "\n",
    "        \n",
    "            \n",
    "          \n",
    "\n"
   ]
  }
 ],
 "metadata": {
  "interpreter": {
   "hash": "d60e79b47118bf8d053c30920be263c6b6ca65e525ada8cdf877117bfde307c2"
  },
  "kernelspec": {
   "display_name": "data",
   "language": "python",
   "name": "data"
  },
  "language_info": {
   "codemirror_mode": {
    "name": "ipython",
    "version": 3
   },
   "file_extension": ".py",
   "mimetype": "text/x-python",
   "name": "python",
   "nbconvert_exporter": "python",
   "pygments_lexer": "ipython3",
   "version": "3.7.11"
  },
  "orig_nbformat": 4
 },
 "nbformat": 4,
 "nbformat_minor": 2
}
